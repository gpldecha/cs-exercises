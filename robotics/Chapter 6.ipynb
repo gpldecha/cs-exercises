{
 "cells": [
  {
   "cell_type": "markdown",
   "metadata": {
    "collapsed": true
   },
   "source": [
    "Exercise 6 of [Introduction to Robotics Mechanics and Control](http://www.mech.sharif.ir/c/document_library/get_file?uuid=5a4bb247-1430-4e46-942c-d692dead831f&groupId=14040), see page 197\n",
    "\n",
    "[derivation of link manipulator dynamics](http://chambrierg.com/robotics/dynamics)"
   ]
  },
  {
   "cell_type": "code",
   "execution_count": 25,
   "metadata": {},
   "outputs": [],
   "source": [
    "import numpy as np\n",
    "\n",
    "class Dynamics:\n",
    "\n",
    "    def __init__(self):\n",
    "        self.l = [0.5, 0.5]\n",
    "        self.m = [4.6, 2.3, 1.0]\n",
    "        self.Izz = 0.1\n",
    "        self.M = np.zeros((3, 3))\n",
    "        self.V = np.zeros(3)\n",
    "        self.G = np.zeros(3)\n",
    "        \n",
    "    def update(self, theta, dtheta):\n",
    "        m1 = self.m[0]\n",
    "        m2 = self.m[1]\n",
    "        m3 = self.m[2]\n",
    "        l1 = self.l[0]\n",
    "        l2 = self.l[1]\n",
    "        l1_s = l1**2\n",
    "        l2_s = l2**2\n",
    "        c1 = np.cos(theta[0])\n",
    "        c2 = np.cos(theta[1])\n",
    "        c12 = np.cos(theta[0] + theta[1])\n",
    "        s2 = np.sin(theta[1])\n",
    "        dtheta1 = dtheta[0]\n",
    "        dtheta2 = dtheta[1]\n",
    "        dtheta1_s = dtheta[0]**2\n",
    "        dtheta2_s = dtheta[1]**2\n",
    "        g = 9.8\n",
    "        \n",
    "        self.M.fill(self.Izz)        \n",
    "        self.M[0][0] = m3*l1_s + l2_s*m2 + 2.0*l1*l2*m2*c2 + l1_s*(m1+m2)\n",
    "        self.M[0][1] = l2_s*m2 + l1*l2*m2*c2 + l2_s*m2 + l1*l2*m2*c2\n",
    "        self.M[1][0] = l2_s*m2 + l1*l2*c2\n",
    "        \n",
    "        self.V[0] = -m2*l1*l2*s2*dtheta2_s - 2.0*m2*l1*l2*s2*dtheta1*dtheta2\n",
    "        self.V[1] = m2*l1*l2*s2*dtheta1_s\n",
    "        \n",
    "        self.G[0] = m3*l1*g*c1 + m2*l2*g*c12 + (m1+m2)*l1*g*c1\n",
    "        self.G[1] = m2*l2*g*c12\n",
    "    \n",
    "    def get_ddtheta(self, tau, theta, dtheta):\n",
    "        self.update(theta, dtheta)\n",
    "        \n",
    "        return np.dot(np.linalg.inv(self.M), tau - self.V - self.G)\n",
    "        "
   ]
  },
  {
   "cell_type": "markdown",
   "metadata": {},
   "source": [
    "Euler integrator to simulate the dynamics"
   ]
  },
  {
   "cell_type": "code",
   "execution_count": 26,
   "metadata": {
    "collapsed": true
   },
   "outputs": [],
   "source": [
    "def simulate(dynamics, theta, dtheta, tau, dt, time):\n",
    "    steps = int(time/dt)\n",
    "    theta = np.copy(theta)\n",
    "    dtheta = np.copy(dtheta)\n",
    "    \n",
    "    r_theta = np.zeros(shape=(steps, len(theta)))\n",
    "    r_dtheta = np.zeros(shape=(steps, len(theta)))\n",
    "    r_ddtheta = np.zeros(shape=(steps, len(theta)))\n",
    "    ddtheta = np.zeros(len(theta))\n",
    "    \n",
    "    record_step = int(0.1/dt)\n",
    "    \n",
    "    for t in range(steps):\n",
    "        if t % record_step == 0:\n",
    "            r_theta[t, :] = theta\n",
    "            r_dtheta[t, :] = dtheta\n",
    "            r_ddtheta[t, :] = ddtheta\n",
    "\n",
    "        ddtheta = dynamics.get_ddtheta(tau, theta, dtheta)\n",
    "        theta = theta + dtheta*dt + 0.5*ddtheta*dt*dt\n",
    "        dtheta = dtheta + ddtheta*dt\n",
    "        \n",
    "    return r_theta, r_dtheta, r_ddtheta"
   ]
  },
  {
   "cell_type": "markdown",
   "metadata": {},
   "source": [
    "**(a)** Set the initial position of the manipulator to [-90, 0, 0]. Simulate for a few seconds. Is the motion of the manipulator what you would expect ?"
   ]
  },
  {
   "cell_type": "code",
   "execution_count": 27,
   "metadata": {},
   "outputs": [],
   "source": [
    "dynamics = Dynamics()\n",
    "theta = np.array([-np.pi/2., 0, 0])\n",
    "dtheta = np.zeros(3)\n",
    "tau_c = np.zeros(3) # torque command is allways zero in this exercise.\n",
    "dt = 0.001\n",
    "\n",
    "r_theta, r_dtheta, r_ddtheta = simulate(dynamics, theta, dtheta, tau_c, dt, 5.0)\n",
    "\n"
   ]
  }
 ],
 "metadata": {
  "kernelspec": {
   "display_name": "Python 2",
   "language": "python",
   "name": "python2"
  },
  "language_info": {
   "codemirror_mode": {
    "name": "ipython",
    "version": 2
   },
   "file_extension": ".py",
   "mimetype": "text/x-python",
   "name": "python",
   "nbconvert_exporter": "python",
   "pygments_lexer": "ipython2",
   "version": "2.7.12"
  }
 },
 "nbformat": 4,
 "nbformat_minor": 2
}
