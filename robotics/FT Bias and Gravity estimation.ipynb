{
 "cells": [
  {
   "cell_type": "markdown",
   "metadata": {},
   "source": [
    "### Implementation of the paper \"Bias Estimation and Gravity Compensation For Force-Torque Sensors\""
   ]
  },
  {
   "cell_type": "markdown",
   "metadata": {},
   "source": [
    "$\\mathbf{F}_s = \\mathbf{F}_b + \\mathbf{F}_g + \\mathbf{F}_n$"
   ]
  },
  {
   "cell_type": "markdown",
   "metadata": {},
   "source": [
    "### Imports and helper functions"
   ]
  },
  {
   "cell_type": "code",
   "execution_count": 8,
   "metadata": {},
   "outputs": [],
   "source": [
    "import numpy as np\n",
    "\n",
    "def rotation_from_euler(a, b, g):\n",
    "    Rx=np.array([[1, 0, 0], [0, np.cos(a), -np.sin(a)], [0, np.sin(a), np.cos(a)]], dtype=float)\n",
    "    Ry=np.array([[np.cos(b), 0, np.sin(b)], [0, 1, 0], [-np.sin(b), 0, np.cos(b)]], dtype=float)\n",
    "    Rz=np.array([[np.cos(g), -np.sin(g), 0], [np.sin(g), np.cos(g), 0], [0, 0, 1]], dtype=float)\n",
    "    return np.dot(Rz, np.dot(Ry, Rx))"
   ]
  },
  {
   "cell_type": "markdown",
   "metadata": {},
   "source": [
    "### Unknown parameters to estimate"
   ]
  },
  {
   "cell_type": "code",
   "execution_count": 16,
   "metadata": {},
   "outputs": [],
   "source": [
    "m=0.25\n",
    "r=np.array([-0.9, -0.1, 7.1])/1000.0 # centre of mass\n",
    "Fb = np.array([0.3128, -1.0857, 4.8458, 0.0006, 0.1732, -0.0431]) # FT bias"
   ]
  },
  {
   "cell_type": "markdown",
   "metadata": {},
   "source": [
    "### Gravity compensation $\\mathbf{F}_g$"
   ]
  },
  {
   "cell_type": "code",
   "execution_count": 19,
   "metadata": {},
   "outputs": [],
   "source": [
    "def ft_gravity_compensation(mass, position, orientation, gravity=np.array([0., 0., -9.81])):\n",
    "    \"\"\" F_g\n",
    "        mass: (1 x 1) mass of the ft sensor and any additional attached element.\n",
    "        position: (3 x 1) center of mass \n",
    "        orientation: (3 x 3) orientation of the tool and ft sensor with respect to the inertial frame\n",
    "        gravity: (3 x 1) \n",
    "    \"\"\"\n",
    "    force=m*np.dot(np.transpose(orientation), gravity)\n",
    "    moment=np.cross(m*position, np.dot(np.transpose(orientation), gravity))\n",
    "    return np.array([force[0], force[1], force[2], moment[0], moment[1], moment[2]])"
   ]
  },
  {
   "cell_type": "markdown",
   "metadata": {},
   "source": [
    "### Virtual FT sensor"
   ]
  },
  {
   "cell_type": "code",
   "execution_count": 20,
   "metadata": {},
   "outputs": [],
   "source": [
    "FTS = lambda orientation : ft_gravity_compensation(m, r, orientation) + Fb"
   ]
  },
  {
   "cell_type": "markdown",
   "metadata": {},
   "source": [
    "### Estimate bias $\\mathbf{F}_b$"
   ]
  },
  {
   "cell_type": "code",
   "execution_count": 75,
   "metadata": {},
   "outputs": [
    {
     "name": "stdout",
     "output_type": "stream",
     "text": [
      "Estimated Fb [ 0.31 -1.09  4.85  0.    0.17 -0.04]\n"
     ]
    }
   ],
   "source": [
    "g  = np.array([0, 0, -9.81])\n",
    "R1 = rotation_from_euler(0, 0, 0)\n",
    "R2 = rotation_from_euler(np.pi, 0, 0)\n",
    "R3 = rotation_from_euler(0, np.pi/2.0, 0)\n",
    "R4 = rotation_from_euler(0, -np.pi/2.0, 0)\n",
    "R5 = rotation_from_euler(np.pi/2.0, 0, 0)\n",
    "R6 = rotation_from_euler(-np.pi/2.0, 0, 0)\n",
    "\n",
    "# gravity force down z axis\n",
    "z1 = FTS(R1)\n",
    "z2 = FTS(R2)\n",
    "g1 = np.dot(np.transpose(R1), g)\n",
    "g2 = np.dot(np.transpose(R2), g)\n",
    "\n",
    "# gravity force down x axis\n",
    "z3 = FTS(R3)\n",
    "z4 = FTS(R4)\n",
    "g3 = np.dot(np.transpose(R3), g)\n",
    "g4 = np.dot(np.transpose(R4), g)\n",
    "\n",
    "# gravity force down y axis\n",
    "z5 = FTS(R5)\n",
    "z6 = FTS(R6)\n",
    "g5 = np.dot(np.transpose(R5), g)\n",
    "g6 = np.dot(np.transpose(R6), g)\n",
    "\n",
    "hFb = (z1+z2+z3+z4+z5+z6)/6.0\n",
    "\n",
    "print('Estimated Fb {0}'.format(np.round(hFb, 2)))"
   ]
  },
  {
   "cell_type": "markdown",
   "metadata": {},
   "source": [
    "### Estimate mass"
   ]
  },
  {
   "cell_type": "code",
   "execution_count": 74,
   "metadata": {},
   "outputs": [
    {
     "name": "stdout",
     "output_type": "stream",
     "text": [
      "Estimated mass: 0.25\n"
     ]
    }
   ],
   "source": [
    "FT = np.vstack((z1, z2, z3, z4, z5, z6)) - hFb\n",
    "F = FT[:, :3]\n",
    "G = np.vstack((g1, g2, g3, g4, g5, g6))\n",
    "\n",
    "invGG = np.linalg.pinv(np.dot(np.transpose(G), G)) \n",
    "hM = np.dot(invGG, np.dot(np.transpose(G), F))\n",
    "hm = hM[0, 0]\n",
    "np.round(hm, 4)\n",
    "print('Estimated mass: {}'.format(hm))"
   ]
  },
  {
   "cell_type": "markdown",
   "metadata": {},
   "source": [
    "### Estimate center of mass"
   ]
  },
  {
   "cell_type": "code",
   "execution_count": null,
   "metadata": {},
   "outputs": [],
   "source": []
  }
 ],
 "metadata": {
  "kernelspec": {
   "display_name": "Python 2",
   "language": "python",
   "name": "python2"
  },
  "language_info": {
   "codemirror_mode": {
    "name": "ipython",
    "version": 2
   },
   "file_extension": ".py",
   "mimetype": "text/x-python",
   "name": "python",
   "nbconvert_exporter": "python",
   "pygments_lexer": "ipython2",
   "version": "2.7.15rc1"
  }
 },
 "nbformat": 4,
 "nbformat_minor": 2
}
