{
 "cells": [
  {
   "cell_type": "code",
   "execution_count": 1,
   "metadata": {},
   "outputs": [],
   "source": [
    "import numpy as np"
   ]
  },
  {
   "cell_type": "code",
   "execution_count": 5,
   "metadata": {},
   "outputs": [],
   "source": [
    "def rotation_from_euler(a, b, g):\n",
    "    Rx=np.array([[1, 0, 0], [0, np.cos(a), -np.sin(a)], [0, np.sin(a), np.cos(a)]], dtype=float)\n",
    "    Ry=np.array([[np.cos(b), 0, np.sin(b)], [0, 1, 0], [-np.sin(b), 0, np.cos(b)]], dtype=float)\n",
    "    Rz=np.array([[np.cos(g), -np.sin(g), 0], [np.sin(g), np.cos(g), 0], [0, 0, 1]], dtype=float)\n",
    "    return np.dot(Rz, np.dot(Ry, Rx))\n",
    "    \n",
    "def get_angle_axis(R):\n",
    "    theta=np.arccos((np.trace(R)-1)/2.0)\n",
    "    n=(1.0/2.0*np.sin(theta))*np.array([R[2, 1] - R[1, 2], R[0, 2] - R[2, 0], R[1, 0] - R[0, 1]])\n",
    "    return theta, n"
   ]
  },
  {
   "cell_type": "code",
   "execution_count": 8,
   "metadata": {},
   "outputs": [
    {
     "name": "stdout",
     "output_type": "stream",
     "text": [
      "[[ 1.  0.  0.]\n",
      " [ 0.  0. -1.]\n",
      " [ 0.  1.  0.]]\n",
      "1.57\n",
      "[1. 0. 0.]\n"
     ]
    }
   ],
   "source": [
    "R_i=rotation_from_euler(0, 0, 0)\n",
    "R_d=rotation_from_euler(np.pi/2, 0, 0)\n",
    "\n",
    "R_id=np.dot(np.transpose(R_i), R_d)\n",
    "\n",
    "theta, n = get_angle_axis(R_id)\n",
    "print np.round(R_id)\n",
    "print np.round(theta, 2)\n",
    "print n\n"
   ]
  }
 ],
 "metadata": {
  "kernelspec": {
   "display_name": "Python 2",
   "language": "python",
   "name": "python2"
  },
  "language_info": {
   "codemirror_mode": {
    "name": "ipython",
    "version": 2
   },
   "file_extension": ".py",
   "mimetype": "text/x-python",
   "name": "python",
   "nbconvert_exporter": "python",
   "pygments_lexer": "ipython2",
   "version": "2.7.15rc1"
  }
 },
 "nbformat": 4,
 "nbformat_minor": 2
}
