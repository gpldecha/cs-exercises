{
 "cells": [
  {
   "cell_type": "markdown",
   "metadata": {},
   "source": [
    "# Boostrap excerises \n",
    "\n",
    "   *All of Statistics: A Concise Course in Statistical Inference*\n",
    "\n",
    "\n",
    "first all the necesary imports"
   ]
  },
  {
   "cell_type": "code",
   "execution_count": 1,
   "metadata": {
    "collapsed": true
   },
   "outputs": [],
   "source": [
    "import numpy as np"
   ]
  },
  {
   "cell_type": "markdown",
   "metadata": {},
   "source": [
    "### Exercise 1"
   ]
  },
  {
   "cell_type": "code",
   "execution_count": 10,
   "metadata": {},
   "outputs": [
    {
     "name": "stdout",
     "output_type": "stream",
     "text": [
      "correlation coefficient: 0.780\n"
     ]
    }
   ],
   "source": [
    "X = np.array([[576, 635, 558, 578, 666, 580, 555, 661, 651, 605, 653, 575, 545, 572], \n",
    "          [3.39, 3.30, 2.81, 3.03, 3.44, 3.07, 3.00, 3.43, 3.36, 3.13, 3.12, 2.74, 2.76, 2.88]], dtype=float)\n",
    "\n",
    "r = np.corrcoef(x=X[0, :], y=X[1, :])[0][1]\n",
    "\n",
    "print(\"correlation coefficient: {0:.3f}\".format(r))\n"
   ]
  },
  {
   "cell_type": "markdown",
   "metadata": {},
   "source": [
    "*...Estimate the standard error using boostrap*\n",
    "\n",
    "Essentially we have to compute the standard deviation of the correlation coefficient\n",
    "via Bootstrap"
   ]
  },
  {
   "cell_type": "code",
   "execution_count": 18,
   "metadata": {},
   "outputs": [
    {
     "name": "stdout",
     "output_type": "stream",
     "text": [
      "standard error: 0.0468\n"
     ]
    }
   ],
   "source": [
    "B = 1000 # number of times to bootstrap\n",
    "N = 100 # number of samples to draw\n",
    "Tboot = np.empty(shape=(B,), dtype=float)\n",
    "\n",
    "\n",
    "for i in range(0, B):\n",
    "    # sample with replacement \n",
    "    idx = np.random.randint(X.shape[1], size=(N,))\n",
    "    Xstar = X[:, idx]\n",
    "    Tboot[i] = np.corrcoef(x=Xstar[0, :], y=Xstar[1, :])[0][1]\n",
    "    \n",
    "se = np.std(Tboot)\n",
    "\n",
    "print(\"standard error: {0:.4f}\".format(se))"
   ]
  },
  {
   "cell_type": "markdown",
   "metadata": {},
   "source": [
    "*..Find a 95 per cent confidence interval using all three methods*"
   ]
  },
  {
   "cell_type": "code",
   "execution_count": 24,
   "metadata": {},
   "outputs": [
    {
     "name": "stdout",
     "output_type": "stream",
     "text": [
      "Method\t95% Interval\n",
      "--------------------\n",
      "Normal      (0.688, 0.872)\n",
      "Percentile  (0.687, 0.870)\n",
      "Pivotal     (0.690, 0.873)\n"
     ]
    }
   ],
   "source": [
    "print(\"Method\\t95% Interval\")\n",
    "print(\"--------------------\")\n",
    "print(\"Normal      ({0:.3f}, {1:.3f})\".format(r - 1.96*se, r + 1.96*se))\n",
    "print(\"Percentile  ({0:.3f}, {1:.3f})\".format(np.percentile(Tboot, 2.5), np.percentile(Tboot, 97.5)))\n",
    "print(\"Pivotal     ({0:.3f}, {1:.3f})\".format(2*r-np.percentile(Tboot, 97.5), 2*r-np.percentile(Tboot, 2.5)))"
   ]
  }
 ],
 "metadata": {
  "kernelspec": {
   "display_name": "Python 2",
   "language": "python",
   "name": "python2"
  },
  "language_info": {
   "codemirror_mode": {
    "name": "ipython",
    "version": 2
   },
   "file_extension": ".py",
   "mimetype": "text/x-python",
   "name": "python",
   "nbconvert_exporter": "python",
   "pygments_lexer": "ipython2",
   "version": "2.7.12"
  }
 },
 "nbformat": 4,
 "nbformat_minor": 2
}
