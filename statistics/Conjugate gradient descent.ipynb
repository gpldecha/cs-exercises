{
 "cells": [
  {
   "cell_type": "markdown",
   "metadata": {},
   "source": [
    "## Conjugate gradient methods\n",
    "\n",
    "These are iterative methods wihch are used to find $\\mathbf{x}$ which minimises $A\\mathbf{x} = \\mathbf{b}$\n"
   ]
  },
  {
   "cell_type": "code",
   "execution_count": null,
   "metadata": {},
   "outputs": [],
   "source": [
    "import numpy as np\n",
    "import matplotlib.pyplot as plt"
   ]
  },
  {
   "cell_type": "markdown",
   "metadata": {},
   "source": [
    "### Conjugate gradient descent "
   ]
  },
  {
   "cell_type": "code",
   "execution_count": 103,
   "metadata": {},
   "outputs": [],
   "source": [
    "def conjugate_gradient(A, b, x, r_tol=1e-2, verbose=False):\n",
    "    r = b - np.dot(A, x)\n",
    "    p = np.copy(r)\n",
    "    alpha=np.dot(r, r)/np.dot(p, np.dot(A, p))\n",
    "    trace = list()\n",
    "    trace.append(x)\n",
    "    c=1\n",
    "    while np.linalg.norm(r) > r_tol:\n",
    "        if verbose: print('iter: {0}  e: {1}'.format(c, np.linalg.norm(r)))\n",
    "        alpha = np.dot(r, r)/np.dot(p, np.dot(A, p))\n",
    "        x = x + alpha*p\n",
    "        trace.append(x)\n",
    "        r_next = r - alpha*np.dot(A, p)\n",
    "        beta = np.dot(r_next, r_next)/np.dot(r, r)\n",
    "        p = r_next + beta*p\n",
    "        r = r_next  \n",
    "        c = c + 1\n",
    "    if verbose: print('iter: {0}  e: {1}'.format(c, np.linalg.norm(r)))\n",
    "    if verbose: print('finshed')\n",
    "    return x, trace"
   ]
  },
  {
   "cell_type": "code",
   "execution_count": 93,
   "metadata": {},
   "outputs": [],
   "source": [
    "def quadratic_function(x, A, b):\n",
    "    \"\"\"  xTAx -bTx\"\"\"\n",
    "    return np.sum(np.multiply(x, np.dot(A, x)), 0) - np.dot(np.transpose(x), b)"
   ]
  },
  {
   "cell_type": "code",
   "execution_count": 107,
   "metadata": {},
   "outputs": [],
   "source": [
    "def get_plot_data(f):\n",
    "    p = np.linspace(-10,10, 100)\n",
    "    X, Y = np.meshgrid(p, p)\n",
    "    x = np.array([X.flatten(), Y.flatten()])\n",
    "    z = f(x)\n",
    "    Z = z.reshape(X.shape)\n",
    "    return X, Y, Z\n",
    "    \n",
    "def plot_trace(plt, trace):\n",
    "    for i in range(1, len(trace)):\n",
    "        line = np.vstack((trace[i-1],trace[i]))\n",
    "        plt.plot(line[:, 0], line[:, 1], '--k')\n",
    "        "
   ]
  },
  {
   "cell_type": "markdown",
   "metadata": {},
   "source": [
    "### Initialise the objective function with its parameters"
   ]
  },
  {
   "cell_type": "code",
   "execution_count": 101,
   "metadata": {},
   "outputs": [],
   "source": [
    "A = np.array([[3, 2], [2, 6]], dtype=float)\n",
    "b = np.array([2, -8], dtype=float)\n",
    "f = lambda x: quadratic_function(x, A, b)"
   ]
  },
  {
   "cell_type": "markdown",
   "metadata": {},
   "source": [
    "### Optimize objective function"
   ]
  },
  {
   "cell_type": "code",
   "execution_count": 104,
   "metadata": {},
   "outputs": [
    {
     "name": "stdout",
     "output_type": "stream",
     "text": [
      "iter: 1  e: 59.3969696197\n",
      "iter: 2  e: 13.7069929892\n",
      "iter: 3  e: 3.5527136788e-15\n",
      "finshed\n"
     ]
    }
   ],
   "source": [
    "x0 = np.array([-10, -5], dtype=float)\n",
    "xf, trace = conjugate_gradient(A, b, x0, r_tol=1e-4, verbose=True)"
   ]
  },
  {
   "cell_type": "markdown",
   "metadata": {},
   "source": [
    "### Plot objective function and result"
   ]
  },
  {
   "cell_type": "code",
   "execution_count": 108,
   "metadata": {},
   "outputs": [
    {
     "data": {
      "image/png": "[encoded data removed]",
      "text/plain": [
       "<Figure size 432x288 with 2 Axes>"
      ]
     },
     "metadata": {
      "needs_background": "light"
     },
     "output_type": "display_data"
    }
   ],
   "source": [
    "\n",
    "X, Y, Z = get_plot_data(f)\n",
    "\n",
    "plt.figure()\n",
    "plt.title('Objective function function')\n",
    "\n",
    "plt.contourf(X, Y, Z, 20,  cmap='RdGy');\n",
    "plt.colorbar();\n",
    "\n",
    "plot_trace(plt, trace)\n",
    "plt.plot(x0[0], x0[1], 'b^')\n",
    "plt.plot(xf[0], xf[1], 'g^')\n",
    "\n",
    "\n",
    "plt.axis(aspect='image');\n",
    "plt.xlabel('x')\n",
    "plt.ylabel('y')\n",
    "plt.show()\n"
   ]
  }
 ],
 "metadata": {
  "kernelspec": {
   "display_name": "Python 2",
   "language": "python",
   "name": "python2"
  },
  "language_info": {
   "codemirror_mode": {
    "name": "ipython",
    "version": 2
   },
   "file_extension": ".py",
   "mimetype": "text/x-python",
   "name": "python",
   "nbconvert_exporter": "python",
   "pygments_lexer": "ipython2",
   "version": "2.7.15rc1"
  }
 },
 "nbformat": 4,
 "nbformat_minor": 2
}
