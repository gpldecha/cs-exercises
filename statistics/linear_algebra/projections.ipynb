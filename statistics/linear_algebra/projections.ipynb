{
 "cells": [
  {
   "cell_type": "code",
   "execution_count": 30,
   "metadata": {},
   "outputs": [],
   "source": [
    "import numpy as np\n",
    "import matplotlib.pyplot as plt"
   ]
  },
  {
   "cell_type": "markdown",
   "metadata": {},
   "source": [
    "### helper functions"
   ]
  },
  {
   "cell_type": "code",
   "execution_count": 111,
   "metadata": {},
   "outputs": [],
   "source": [
    "def normalise(v):\n",
    "    return v/np.linalg.norm(v.flatten())\n",
    "\n",
    "def vec(*args):\n",
    "    return np.array(args).reshape(len(args), 1)\n",
    "\n",
    "def proj(P, x):\n",
    "    return np.dot(P, x)\n",
    "\n",
    "def proj_basis(A, x):\n",
    "    p = np.zeros(x.shape).flatten()\n",
    "    num_cols = A.shape[1]\n",
    "    for j in range(num_cols):\n",
    "        p += np.dot(A[:, j], x.flatten())*A[:, j]\n",
    "    return p\n",
    "        \n",
    "def draw_vector(ax, direction, position, color):\n",
    "    vec1 = np.vstack((position.flatten(), position.flatten()+3.0*direction.flatten()))\n",
    "    plt.plot(vec1[:, 0], vec1[:, 1], color=color, linewidth=2)\n",
    "    \n",
    "def draw_point(ax, point, color=[0, 0, 0]):\n",
    "    ax.scatter(point[0], point[1], 40, color)"
   ]
  },
  {
   "cell_type": "markdown",
   "metadata": {},
   "source": [
    "if $u$ is a unit vector then any point $x$ projected by $P = uu^{T}$ will be a on its the line defined by $u$. "
   ]
  },
  {
   "cell_type": "code",
   "execution_count": 96,
   "metadata": {},
   "outputs": [
    {
     "data": {
      "text/plain": [
       "array([[4.5],\n",
       "       [4.5]])"
      ]
     },
     "execution_count": 96,
     "metadata": {},
     "output_type": "execute_result"
    }
   ],
   "source": [
    "u = normalise(vec(1., 1.))\n",
    "P = np.dot(u, np.transpose(u))\n",
    "proj(P, vec(6, 3))"
   ]
  },
  {
   "cell_type": "markdown",
   "metadata": {},
   "source": [
    "### Projection\n",
    "\n",
    "If $u_1, ..., u_k$ is an orthonormal basis vectors arranged as columns in matrix $A = [u_1, ..., u_k]$ then the projection is given by $P_A = AA^{T}$. Which in the case when $A$ is square and orthonormal $AA^{T} = A^{T}A = I$ and $A = A^{-1}$"
   ]
  },
  {
   "cell_type": "code",
   "execution_count": 118,
   "metadata": {},
   "outputs": [
    {
     "name": "stdout",
     "output_type": "stream",
     "text": [
      "A: \n",
      "[[ 0.71 -0.71]\n",
      " [ 0.71  0.71]]\n",
      "P: \n",
      "[[ 1. -0.]\n",
      " [-0.  1.]]\n",
      "proj:   [-2. -1.]\n",
      "proj_b: [-2. -1.]\n"
     ]
    },
    {
     "data": {
      "image/png": "[encoded data removed]",
      "text/plain": [
       "<matplotlib.figure.Figure at 0x7f71733c5150>"
      ]
     },
     "metadata": {},
     "output_type": "display_data"
    }
   ],
   "source": [
    "u1 = normalise(vec(1., 1.))\n",
    "u2 = normalise(vec(-1., 1.))\n",
    "\n",
    "A = np.hstack((u1, u2))\n",
    "P = np.dot(A, np.transpose(A))\n",
    "\n",
    "x = vec(-2., -1.)\n",
    "x_proj = proj(P, x)\n",
    "x_proj2 = proj_basis(A, x)\n",
    "\n",
    "print('A: \\n{}'.format(np.round(A, 2)))\n",
    "print('P: \\n{}'.format(np.round(P, 2)))\n",
    "print('proj:   {}'.format(np.round(x_proj.flatten(), 2)))\n",
    "print('proj_b: {}'.format(np.round(x_proj2, 2)))\n",
    "\n",
    "plt.figure()\n",
    "ax = plt.gca()\n",
    "draw_vector(ax, u1, vec(0, 0), [1, 0, 0, 1])\n",
    "draw_vector(ax, u2, vec(0, 0), [0, 1, 0, 1])\n",
    "draw_point(ax, x_proj, [0, 1, 0])\n",
    "draw_point(ax, x, [0, 0, 0])\n",
    "plt.xlim([-3, 3])\n",
    "plt.ylim([-3, 3])\n",
    "plt.grid()\n",
    "plt.axis('equal')\n",
    "plt.show()"
   ]
  },
  {
   "cell_type": "markdown",
   "metadata": {},
   "source": [
    "### Projection matrix of a non-orthonormal basis"
   ]
  }
 ],
 "metadata": {
  "kernelspec": {
   "display_name": "Python 2",
   "language": "python",
   "name": "python2"
  },
  "language_info": {
   "codemirror_mode": {
    "name": "ipython",
    "version": 2
   },
   "file_extension": ".py",
   "mimetype": "text/x-python",
   "name": "python",
   "nbconvert_exporter": "python",
   "pygments_lexer": "ipython2",
   "version": "2.7.12"
  }
 },
 "nbformat": 4,
 "nbformat_minor": 2
}
