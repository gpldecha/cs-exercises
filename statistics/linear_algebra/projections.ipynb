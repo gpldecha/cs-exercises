{
 "cells": [
  {
   "cell_type": "code",
   "execution_count": 1,
   "metadata": {},
   "outputs": [],
   "source": [
    "import numpy as np\n",
    "import matplotlib.pyplot as plt"
   ]
  },
  {
   "cell_type": "markdown",
   "metadata": {},
   "source": [
    "### helper functions"
   ]
  },
  {
   "cell_type": "code",
   "execution_count": 14,
   "metadata": {},
   "outputs": [],
   "source": [
    "def normalise(v):\n",
    "    return v/np.linalg.norm(v.flatten())\n",
    "\n",
    "def vec(*args):\n",
    "    return np.array(args).reshape(len(args), 1)\n",
    "\n",
    "def proj(P, x):\n",
    "    return np.dot(P, x)\n",
    "\n",
    "def proj_basis(A, x):\n",
    "    p = np.zeros(x.shape).flatten()\n",
    "    num_cols = A.shape[1]\n",
    "    for j in range(num_cols):\n",
    "        p += np.dot(A[:, j], x.flatten())*A[:, j]\n",
    "    return p\n",
    "        \n",
    "def draw_vector(ax, direction, position, color):\n",
    "    vec1 = np.vstack((position.flatten(), position.flatten()+3.0*direction.flatten()))\n",
    "    plt.plot(vec1[:, 0], vec1[:, 1], color=color, linewidth=2)\n",
    "    \n",
    "def draw_point(ax, point, color=[0, 0, 0]):\n",
    "    ax.scatter(point[0], point[1], 40, color)\n",
    "    \n",
    "def matrix_from_basis_vectors(*args):\n",
    "    return np.hstack(args)\n"
   ]
  },
  {
   "cell_type": "markdown",
   "metadata": {},
   "source": [
    "if $u$ is a unit vector then any point $x$ projected by $P = uu^{T}$ will be a on its the line defined by $u$. "
   ]
  },
  {
   "cell_type": "code",
   "execution_count": 3,
   "metadata": {},
   "outputs": [
    {
     "data": {
      "text/plain": [
       "array([[4.5],\n",
       "       [4.5]])"
      ]
     },
     "execution_count": 3,
     "metadata": {},
     "output_type": "execute_result"
    }
   ],
   "source": [
    "u = normalise(vec(1., 1.))\n",
    "P = np.dot(u, np.transpose(u))\n",
    "proj(P, vec(6, 3))"
   ]
  },
  {
   "cell_type": "markdown",
   "metadata": {},
   "source": [
<<<<<<< HEAD
    "### Projection\n",
=======
    "### Criteria of a projection matrix\n",
    "\n",
    "1. $PP = P$\n",
    "2. $P^T = P$"
   ]
  },
  {
   "cell_type": "markdown",
   "metadata": {},
   "source": [
    "### Projection of orthonormal square matrix\n",
>>>>>>> e2fe3859021c60a1424cf7e79ead212b90b71c7d
    "\n",
    "If $u_1, ..., u_k$ is an orthonormal basis vectors arranged as columns in matrix $A = [u_1, ..., u_k]$ then the projection is given by $P_A = AA^{T}$. Which in the case when $A$ is square and orthonormal $AA^{T} = A^{T}A = I$ and $A = A^{-1}$"
   ]
  },
  {
   "cell_type": "code",
   "execution_count": 4,
   "metadata": {},
   "outputs": [
    {
     "name": "stdout",
     "output_type": "stream",
     "text": [
      "A: \n",
      "[[ 0.71 -0.71]\n",
      " [ 0.71  0.71]]\n",
      "P: \n",
      "[[ 1. -0.]\n",
      " [-0.  1.]]\n",
      "proj:   [-2. -1.]\n",
      "proj_b: [-2. -1.]\n"
     ]
    },
    {
     "data": {
      "image/png": "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\n",
      "text/plain": [
       "<Figure size 432x288 with 1 Axes>"
      ]
     },
     "metadata": {
      "needs_background": "light"
     },
     "output_type": "display_data"
    }
   ],
   "source": [
    "u1 = normalise(vec(1., 1.))\n",
    "u2 = normalise(vec(-1., 1.))\n",
    "\n",
    "A = np.hstack((u1, u2))\n",
    "P = np.dot(A, np.transpose(A))\n",
    "\n",
    "x = vec(-2., -1.)\n",
    "x_proj = proj(P, x)\n",
    "x_proj2 = proj_basis(A, x)\n",
    "\n",
    "print('A: \\n{}'.format(np.round(A, 2)))\n",
    "print('P: \\n{}'.format(np.round(P, 2)))\n",
    "print('proj:   {}'.format(np.round(x_proj.flatten(), 2)))\n",
    "print('proj_b: {}'.format(np.round(x_proj2, 2)))\n",
    "\n",
    "plt.figure()\n",
    "ax = plt.gca()\n",
    "draw_vector(ax, u1, vec(0, 0), [1, 0, 0, 1])\n",
    "draw_vector(ax, u2, vec(0, 0), [0, 1, 0, 1])\n",
    "draw_point(ax, x_proj, [0, 1, 0])\n",
    "draw_point(ax, x, [0, 0, 0])\n",
    "plt.xlim([-3, 3])\n",
    "plt.ylim([-3, 3])\n",
    "plt.grid()\n",
    "plt.axis('equal')\n",
    "plt.show()"
   ]
  },
  {
   "cell_type": "markdown",
   "metadata": {},
   "source": [
    "### Projection in general\n",
    "\n",
    "Consider the equation $\\mathbf{Ax} = \\mathbf{b}$ in which:\n",
    "\n",
    "   * $\\mathbf{x} \\in \\mathbb{R}^n$\n",
    "   * $\\mathbf{b} \\in \\mathbb{R}^m$\n",
    "   * $\\mathbf{A} \\in \\mathbb{R}^{m \\times n}$\n",
    "    \n",
    "How do we project vector $\\mathbf{b}$ onto the closest point $\\mathbf{p}$ in the plane defined by $\\mathbf{A}$.\n",
    "\n",
    "In the case of a plane in a 3 dimensional space\n",
    "\n",
    " * $\\mathbf{p} \\in \\mathbb{R}^3$\n",
    " * $\\mathbf{x} \\in \\mathbb{R}^2$\n",
    " * $\\mathbf{b} \\in \\mathbb{R}^3$\n",
    " * $\\mathbf{A} \\in \\mathbb{R}^{3 \\times 2}$\n",
    "\n",
    "The plane matrix $\\mathbf{A}$ can be thought of in terms of its basis vectors: $ \\mathbf{A} = [\\mathbf{a}_1\\,\\, \\mathbf{a}_2] $ where $\\mathbf{a}_i \\in \\mathbb{R}^{3}$.\n",
    "\n",
    "The point $\\mathbf{p}$ will be a linear combination of these basis vectors:\n",
    "\n",
    "$$ \\mathbf{p} = x_1\\,\\mathbf{a}_1 + x_2\\,\\mathbf{a}_2 = \\mathbf{Ax}$$\n",
    " \n",
    "We essentialy have to find $\\mathbf{x}$ which we can be used to then find $\\mathbf{p}$. \n",
    "\n",
    "We know that the vector from the point $\\mathbf{p}$ to its projection on the plane $\\mathbf{Ax}$ is orthonormal to the plane. This ca be expressed as:\n",
    "\n",
    "$$\\mathbf{a}_i^T(\\mathbf{b} - \\mathbf{Ax}) = 0$$\n",
    "\n",
    "in matrix format:\n",
    "\n",
    "\n",
    "$$\\mathbf{A}^T(\\mathbf{b} - \\mathbf{Ax}) = 0$$\n",
    "\n",
    "Solving for $\\mathbf{x}$:\n",
    "\n",
    "1. $\\mathbf{A}^T\\mathbf{b} - \\mathbf{A}^T\\mathbf{Ax} = 0$\n",
    "2. $\\mathbf{A}^T\\mathbf{Ax} = \\mathbf{A}^T\\mathbf{b}$\n",
    "3. $\\mathbf{x} = (\\mathbf{A}^T\\mathbf{A})^{-1}\\mathbf{A}^T\\mathbf{b}$\n",
    "\n",
    "To get the point $\\mathbb{p}$ we have to multiply the plane matrix A by the linear combination factors $\\mathbf{x}$.\n",
    "\n",
    "$$ \\mathbf{p} = \\mathbf{Ax} = \\mathbf{A}(\\mathbf{A}^T\\mathbf{A})^{-1}\\mathbf{A}^T\\mathbf{b}$$ \n",
    "\n",
    "The projection matrix is:\n",
    "\n",
    "$$ P = \\mathbf{A}(\\mathbf{A}^T\\mathbf{A})^{-1}\\mathbf{A}^T$$\n",
    "$$ \\mathbf{p} = P\\;\\mathbf{b}$$\n"
   ]
  },
  {
   "cell_type": "code",
   "execution_count": null,
   "metadata": {},
   "outputs": [],
   "source": []
  },
  {
   "cell_type": "code",
   "execution_count": 27,
   "metadata": {},
   "outputs": [
    {
     "name": "stdout",
     "output_type": "stream",
     "text": [
      "projection matrix: \n",
      "[[1. 0. 0.]\n",
      " [0. 1. 0.]\n",
      " [0. 0. 0.]]\n",
      "closest point p:   \n",
      "[[2.]\n",
      " [2.]\n",
      " [0.]]\n",
      "closest point x:   \n",
      "[[2.]\n",
      " [2.]]\n"
     ]
    }
   ],
   "source": [
    "a1 = vec(1., 0., 0.)\n",
    "a2 = vec(0., 1., 0.)\n",
    "\n",
    "A = matrix_from_basis_vectors(a1, a2)\n",
    "b = vec(2., 2., 5.)\n",
    "\n",
    "normaliser = np.dot(np.transpose(A), A)\n",
    "P = np.dot(np.dot(A, normaliser), np.transpose(A))\n",
    "\n",
    "p = np.dot(P, b)\n",
    "x = np.dot(np.transpose(A), p)\n",
    "\n",
    "print('projection matrix: \\n{}'.format(np.round(P, 2)))\n",
    "print('closest point p:   \\n{}'.format(p))\n",
    "print('closest point x:   \\n{}'.format(x))\n",
    "\n"
   ]
  }
 ],
 "metadata": {
  "kernelspec": {
   "display_name": "Python 2",
   "language": "python",
   "name": "python2"
  },
  "language_info": {
   "codemirror_mode": {
    "name": "ipython",
    "version": 2
   },
   "file_extension": ".py",
   "mimetype": "text/x-python",
   "name": "python",
   "nbconvert_exporter": "python",
   "pygments_lexer": "ipython2",
   "version": "2.7.15rc1"
  }
 },
 "nbformat": 4,
 "nbformat_minor": 2
}
