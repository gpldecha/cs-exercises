{
 "cells": [
  {
   "cell_type": "markdown",
   "metadata": {},
   "source": [
    "### Notes on singular value decomposition\n",
    "\n",
    "$\\underbrace{\\mathbf{A}}_{m \\times n} = \\underbrace{\\mathbf{U} \\;\\;\\; \\boldsymbol{\\Sigma} \\;\\;\\; \\mathbf{V}^{\\mathrm{T}}}_{(m \\times m)\\,(m \\times n)\\,(n \\times n)}$\n",
    "\n",
    "* $\\mathbf{U}$ the columns are eigenvectors of $\\mathbf{AA}^{T}$ \n",
    "\n",
    "* $\\mathbf{V}$ the rows are eigenvectors of $\\mathbf{A}^{T}\\mathbf{A}$\n",
    "\n",
    "* The singular values (diagonal elements of $\\boldsymbol{\\Sigma}$) are eigenvalues of $\\mathbf{AA}^{T}$ and $\\mathbf{A}^{T}\\mathbf{A}$\n",
    "\n",
    "\n",
    "#### references\n",
    "\n",
    "https://www.mathworks.com/content/dam/mathworks/mathworks-dot-com/moler/eigs.pdf"
   ]
  },
  {
   "cell_type": "code",
   "execution_count": null,
   "metadata": {},
   "outputs": [],
   "source": []
  },
  {
   "cell_type": "code",
   "execution_count": 1,
   "metadata": {},
   "outputs": [],
   "source": [
    "import numpy as np"
   ]
  }
 ],
 "metadata": {
  "kernelspec": {
   "display_name": "Python 2",
   "language": "python",
   "name": "python2"
  },
  "language_info": {
   "codemirror_mode": {
    "name": "ipython",
    "version": 2
   },
   "file_extension": ".py",
   "mimetype": "text/x-python",
   "name": "python",
   "nbconvert_exporter": "python",
   "pygments_lexer": "ipython2",
   "version": "2.7.12"
  }
 },
 "nbformat": 4,
 "nbformat_minor": 2
}
