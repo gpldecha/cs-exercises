{
 "cells": [
  {
   "cell_type": "code",
   "execution_count": 1,
   "metadata": {},
   "outputs": [],
   "source": [
    "import numpy as np\n",
    "import matplotlib.pyplot as plt"
   ]
  },
  {
   "cell_type": "markdown",
   "metadata": {},
   "source": [
    "### helper functions"
   ]
  },
  {
   "cell_type": "code",
   "execution_count": 2,
   "metadata": {},
   "outputs": [],
   "source": [
    "def normalise(v):\n",
    "    return v/np.linalg.norm(v.flatten())\n",
    "\n",
    "def vec(*args):\n",
    "    return np.array(args).reshape(len(args), 1)\n",
    "\n",
    "def proj(P, x):\n",
    "    return np.dot(P, x)\n",
    "\n",
    "def proj_basis(A, x):\n",
    "    p = np.zeros(x.shape).flatten()\n",
    "    num_cols = A.shape[1]\n",
    "    for j in range(num_cols):\n",
    "        p += np.dot(A[:, j], x.flatten())*A[:, j]\n",
    "    return p\n",
    "        \n",
    "def draw_vector(ax, direction, position, color):\n",
    "    vec1 = np.vstack((position.flatten(), position.flatten()+3.0*direction.flatten()))\n",
    "    plt.plot(vec1[:, 0], vec1[:, 1], color=color, linewidth=2)\n",
    "    \n",
    "def draw_point(ax, point, color=[0, 0, 0]):\n",
    "    ax.scatter(point[0], point[1], 40, color)\n",
    "    \n",
    "def matrix_from_basis_vectors(*args):\n",
    "    return np.hstack(args)\n"
   ]
  },
  {
   "cell_type": "markdown",
   "metadata": {},
   "source": [
    "if $u$ is a unit vector then any point $x$ projected by $P = uu^{T}$ will be a on its the line defined by $u$. "
   ]
  },
  {
   "cell_type": "code",
   "execution_count": 3,
   "metadata": {},
   "outputs": [
    {
     "data": {
      "text/plain": [
       "array([[4.5],\n",
       "       [4.5]])"
      ]
     },
     "execution_count": 3,
     "metadata": {},
     "output_type": "execute_result"
    }
   ],
   "source": [
    "u = normalise(vec(1., 1.))\n",
    "P = np.dot(u, np.transpose(u))\n",
    "proj(P, vec(6, 3))"
   ]
  },
  {
   "cell_type": "markdown",
   "metadata": {},
   "source": [
    "\n",
    "If $u_1, ..., u_k$ is an orthonormal basis vectors arranged as columns in matrix $A = [u_1, ..., u_k]$ then the projection is given by $P_A = AA^{T}$. Which in the case when $A$ is square and orthonormal $AA^{T} = A^{T}A = I$ and $A = A^{-1}$"
   ]
  },
  {
   "cell_type": "code",
   "execution_count": 4,
   "metadata": {},
   "outputs": [
    {
     "name": "stderr",
     "output_type": "stream",
     "text": [
      "'c' argument looks like a single numeric RGB or RGBA sequence, which should be avoided as value-mapping will have precedence in case its length matches with 'x' & 'y'.  Please use a 2-D array with a single row if you really want to specify the same RGB or RGBA value for all points.\n",
      "'c' argument looks like a single numeric RGB or RGBA sequence, which should be avoided as value-mapping will have precedence in case its length matches with 'x' & 'y'.  Please use a 2-D array with a single row if you really want to specify the same RGB or RGBA value for all points.\n"
     ]
    },
    {
     "name": "stdout",
     "output_type": "stream",
     "text": [
      "A: \n",
      "[[ 0.71 -0.71]\n",
      " [ 0.71  0.71]]\n",
      "P: \n",
      "[[ 1. -0.]\n",
      " [-0.  1.]]\n",
      "proj:   [-2. -1.]\n",
      "proj_b: [-2. -1.]\n"
     ]
    },
    {
     "data": {
      "image/png": "[encoded data removed]",
      "text/plain": [
       "<Figure size 432x288 with 1 Axes>"
      ]
     },
     "metadata": {
      "needs_background": "light"
     },
     "output_type": "display_data"
    }
   ],
   "source": [
    "u1 = normalise(vec(1., 1.))\n",
    "u2 = normalise(vec(-1., 1.))\n",
    "\n",
    "A = np.hstack((u1, u2))\n",
    "P = np.dot(A, np.transpose(A))\n",
    "\n",
    "x = vec(-2., -1.)\n",
    "x_proj = proj(P, x)\n",
    "x_proj2 = proj_basis(A, x)\n",
    "\n",
    "print('A: \\n{}'.format(np.round(A, 2)))\n",
    "print('P: \\n{}'.format(np.round(P, 2)))\n",
    "print('proj:   {}'.format(np.round(x_proj.flatten(), 2)))\n",
    "print('proj_b: {}'.format(np.round(x_proj2, 2)))\n",
    "\n",
    "plt.figure()\n",
    "ax = plt.gca()\n",
    "draw_vector(ax, u1, vec(0, 0), [1, 0, 0, 1])\n",
    "draw_vector(ax, u2, vec(0, 0), [0, 1, 0, 1])\n",
    "draw_point(ax, x_proj, [0, 1, 0])\n",
    "draw_point(ax, x, [0, 0, 0])\n",
    "plt.xlim([-3, 3])\n",
    "plt.ylim([-3, 3])\n",
    "plt.grid()\n",
    "plt.axis('equal')\n",
    "plt.show()"
   ]
  },
  {
   "cell_type": "markdown",
   "metadata": {},
   "source": [
    "### Projection in general\n",
    "\n",
    "Consider the equation $\\mathbf{Ax} = \\mathbf{b}$ in which:\n",
    "\n",
    "   * $\\mathbf{x} \\in \\mathbb{R}^n$\n",
    "   * $\\mathbf{b} \\in \\mathbb{R}^m$\n",
    "   * $\\mathbf{A} \\in \\mathbb{R}^{m \\times n}$\n",
    "    \n",
    "How do we project vector $\\mathbf{b}$ onto the closest point $\\mathbf{p}$ in the plane defined by $\\mathbf{A}$.\n",
    "\n",
    "In the case of a plane in a 3 dimensional space\n",
    "\n",
    " * $\\mathbf{p} \\in \\mathbb{R}^3$\n",
    " * $\\mathbf{x} \\in \\mathbb{R}^2$\n",
    " * $\\mathbf{b} \\in \\mathbb{R}^3$\n",
    " * $\\mathbf{A} \\in \\mathbb{R}^{3 \\times 2}$\n",
    "\n",
    "The plane matrix $\\mathbf{A}$ can be thought of in terms of its basis vectors: $ \\mathbf{A} = [\\mathbf{a}_1\\,\\, \\mathbf{a}_2] $ where $\\mathbf{a}_i \\in \\mathbb{R}^{3}$.\n",
    "\n",
    "The point $\\mathbf{p}$ will be a linear combination of these basis vectors:\n",
    "\n",
    "$$ \\mathbf{p} = x_1\\,\\mathbf{a}_1 + x_2\\,\\mathbf{a}_2 = \\mathbf{Ax}$$\n",
    " \n",
    "We essentialy have to find $\\mathbf{x}$ which we can be used to then find $\\mathbf{p}$. \n",
    "\n",
    "We know that the vector from the point $\\mathbf{p}$ to its projection on the plane $\\mathbf{Ax}$ is orthonormal to the plane. This ca be expressed as:\n",
    "\n",
    "$$\\mathbf{a}_i^T(\\mathbf{b} - \\mathbf{Ax}) = 0$$\n",
    "\n",
    "in matrix format:\n",
    "\n",
    "\n",
    "$$\\mathbf{A}^T(\\mathbf{b} - \\mathbf{Ax}) = 0$$\n",
    "\n",
    "Solving for $\\mathbf{x}$:\n",
    "\n",
    "1. $\\mathbf{A}^T\\mathbf{b} - \\mathbf{A}^T\\mathbf{Ax} = 0$\n",
    "2. $\\mathbf{A}^T\\mathbf{Ax} = \\mathbf{A}^T\\mathbf{b}$\n",
    "3. $\\mathbf{x} = (\\mathbf{A}^T\\mathbf{A})^{-1}\\mathbf{A}^T\\mathbf{b}$\n",
    "\n",
    "To get the point $\\mathbb{p}$ we have to multiply the plane matrix A by the linear combination factors $\\mathbf{x}$.\n",
    "\n",
    "$$ \\mathbf{p} = \\mathbf{Ax} = \\mathbf{A}(\\mathbf{A}^T\\mathbf{A})^{-1}\\mathbf{A}^T\\mathbf{b}$$ \n",
    "\n",
    "The projection matrix is:\n",
    "\n",
    "$$ P = \\mathbf{A}(\\mathbf{A}^T\\mathbf{A})^{-1}\\mathbf{A}^T$$\n",
    "$$ \\mathbf{p} = P\\;\\mathbf{b}$$\n"
   ]
  },
  {
   "cell_type": "code",
   "execution_count": 27,
   "metadata": {},
   "outputs": [
    {
     "name": "stdout",
     "output_type": "stream",
     "text": [
      "projection matrix: \n",
      "[[1. 0. 0.]\n",
      " [0. 1. 0.]\n",
      " [0. 0. 0.]]\n",
      "closest point p:   \n",
      "[[2.]\n",
      " [2.]\n",
      " [0.]]\n",
      "closest point x:   \n",
      "[[2.]\n",
      " [2.]]\n"
     ]
    }
   ],
   "source": [
    "a1 = vec(1., 0., 0.)\n",
    "a2 = vec(0., 1., 0.)\n",
    "\n",
    "A = matrix_from_basis_vectors(a1, a2)\n",
    "b = vec(2., 2., 5.)\n",
    "\n",
    "normaliser = np.dot(np.transpose(A), A)\n",
    "P = np.dot(np.dot(A, normaliser), np.transpose(A))\n",
    "\n",
    "p = np.dot(P, b)\n",
    "x = np.dot(np.transpose(A), p)\n",
    "\n",
    "print('projection matrix: \\n{}'.format(np.round(P, 2)))\n",
    "print('closest point p:   \\n{}'.format(p))\n",
    "print('closest point x:   \\n{}'.format(x))\n",
    "\n"
   ]
  }
 ],
 "metadata": {
  "kernelspec": {
   "display_name": "Python 2",
   "language": "python",
   "name": "python2"
  },
  "language_info": {
   "codemirror_mode": {
    "name": "ipython",
    "version": 3
   },
   "file_extension": ".py",
   "mimetype": "text/x-python",
   "name": "python",
   "nbconvert_exporter": "python",
   "pygments_lexer": "ipython3",
   "version": "3.7.3"
  }
 },
 "nbformat": 4,
 "nbformat_minor": 2
}
