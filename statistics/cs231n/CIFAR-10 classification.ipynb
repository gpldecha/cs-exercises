{
 "cells": [
  {
   "cell_type": "markdown",
   "metadata": {},
   "source": [
    "# CIFAR-10\n",
    "\n",
    "Learning a classifier for the [CIFAR-10](http://www.cs.utoronto.ca/~kriz/cifar.html) dataset.\n",
    "\n",
    "* [reference 1](https://appliedmachinelearning.blog/2018/03/24/achieving-90-accuracy-in-object-recognition-task-on-cifar-10-dataset-with-keras-convolutional-neural-networks/)\n",
    "\n",
    "* [reference 2](https://keras.io/examples/cifar10_cnn/)"
   ]
  },
  {
   "cell_type": "code",
   "execution_count": 2,
   "metadata": {},
   "outputs": [
    {
     "name": "stdout",
     "output_type": "stream",
     "text": [
      "The Python version is 3.6.8\n"
     ]
    }
   ],
   "source": [
    "import sys\n",
    "import os\n",
    "import numpy as np\n",
    "sys.path.append('/home/guillaume/cpp_work_space/cs-exercises/python/')\n",
    "import machine_learning_utils.utils as ml_utils\n",
    "import matplotlib.pyplot as plt\n",
    "import tensorflow as tf\n",
    "\n",
    "print(\"The Python version is %s.%s.%s\" % sys.version_info[:3])\n",
    "import machine_learning_models.cifar_10_models as models\n"
   ]
  },
  {
   "cell_type": "code",
   "execution_count": 3,
   "metadata": {},
   "outputs": [],
   "source": [
    "config = tf.ConfigProto()\n",
    "config.gpu_options.per_process_gpu_memory_fraction = 0.8\n",
    "tf.compat.v1.keras.backend.set_session(tf.Session(config=config))"
   ]
  },
  {
   "cell_type": "code",
   "execution_count": 4,
   "metadata": {},
   "outputs": [],
   "source": [
    "def get_dataset(name='data_batch_1', folder='/home/guillaume/Data/cifar-10-python'):\n",
    "    batch = ml_utils.load_data(os.path.join(folder, name))\n",
    "    data = batch[b'data']\n",
    "    labels = np.array(batch[b'labels'])\n",
    "    R = data[:, :1024].reshape((-1, 32, 32))\n",
    "    G = data[:, 1024:(2*1024)].reshape((-1, 32, 32))\n",
    "    B = data[:, (2*1024):].reshape((-1, 32, 32))\n",
    "    return np.stack((R, G, B), axis=3), labels"
   ]
  },
  {
   "cell_type": "code",
   "execution_count": 5,
   "metadata": {},
   "outputs": [
    {
     "name": "stdout",
     "output_type": "stream",
     "text": [
      "Loading 1\n",
      "Loading 2\n",
      "Loading 3\n",
      "Loading 4\n",
      "Loading 5\n"
     ]
    }
   ],
   "source": [
    "num_batches = 5\n",
    "images_set = list()\n",
    "labels_set = list()\n",
    "for i in range(num_batches):\n",
    "    print('Loading {}'.format(i+1))\n",
    "    images, labels = get_dataset('data_batch_' + str(i+1))\n",
    "    images_set.append(images)\n",
    "    labels_set.append(labels)\n",
    "images = np.concatenate(images_set)\n",
    "labels = np.concatenate(labels_set)\n",
    "\n",
    "test_images, test_labels = get_dataset('test_batch')"
   ]
  },
  {
   "cell_type": "code",
   "execution_count": 6,
   "metadata": {},
   "outputs": [
    {
     "name": "stdout",
     "output_type": "stream",
     "text": [
      "614.4 MB\n"
     ]
    }
   ],
   "source": [
    "images = images.astype(np.float32)\n",
    "images /= 255\n",
    "print('{} MB'.format(images.nbytes/1e6))\n",
    "test_images = test_images.astype(np.float32)\n",
    "test_images /= 255"
   ]
  },
  {
   "cell_type": "markdown",
   "metadata": {},
   "source": [
    "### Prepare datasets"
   ]
  },
  {
   "cell_type": "code",
   "execution_count": 7,
   "metadata": {},
   "outputs": [],
   "source": [
    "test_percentage = 0.2\n",
    "train_data, train_label, test_data, test_label = ml_utils.split_test_train(test_percentage, images, labels)"
   ]
  },
  {
   "cell_type": "code",
   "execution_count": 8,
   "metadata": {},
   "outputs": [
    {
     "data": {
      "image/png": "[encoded data removed]",
      "text/plain": [
       "<Figure size 432x288 with 1 Axes>"
      ]
     },
     "metadata": {
      "needs_background": "light"
     },
     "output_type": "display_data"
    },
    {
     "name": "stdout",
     "output_type": "stream",
     "text": [
      "(32, 32, 3)\n"
     ]
    }
   ],
   "source": [
    "plt.figure()\n",
    "plt.imshow(images[2, :, :, :])\n",
    "plt.show()\n",
    "print(images[2, :, :, :].shape)"
   ]
  },
  {
   "cell_type": "code",
   "execution_count": 14,
   "metadata": {},
   "outputs": [],
   "source": [
    "train_dataset = tf.data.Dataset.from_tensor_slices((train_data, train_label))\n",
    "test_dataset = tf.data.Dataset.from_tensor_slices((test_data, test_label))\n",
    "\n",
    "batch_size = 128\n",
    "train_dataset = train_dataset.shuffle(buffer_size=1000).batch(batch_size).repeat()\n",
    "test_dataset  = test_dataset.shuffle(buffer_size=1000).batch(batch_size).repeat()"
   ]
  },
  {
   "cell_type": "code",
   "execution_count": 20,
   "metadata": {},
   "outputs": [],
   "source": [
    "image_data_generator = tf.keras.preprocessing.image.ImageDataGenerator(rotation_range=90,\n",
    "    width_shift_range=0.1,\n",
    "    height_shift_range=0.1,\n",
    "    horizontal_flip=True, \n",
    "    validation_split=0.2)\n",
    "image_data_generator.fit(train_data)\n"
   ]
  },
  {
   "cell_type": "code",
   "execution_count": 21,
   "metadata": {},
   "outputs": [
    {
     "name": "stdout",
     "output_type": "stream",
     "text": [
      "Model: \"sequential_2\"\n",
      "_________________________________________________________________\n",
      "Layer (type)                 Output Shape              Param #   \n",
      "=================================================================\n",
      "conv2d_8 (Conv2D)            (None, 32, 32, 32)        896       \n",
      "_________________________________________________________________\n",
      "conv2d_9 (Conv2D)            (None, 30, 30, 32)        9248      \n",
      "_________________________________________________________________\n",
      "max_pooling2d_4 (MaxPooling2 (None, 15, 15, 32)        0         \n",
      "_________________________________________________________________\n",
      "dropout_6 (Dropout)          (None, 15, 15, 32)        0         \n",
      "_________________________________________________________________\n",
      "conv2d_10 (Conv2D)           (None, 15, 15, 64)        18496     \n",
      "_________________________________________________________________\n",
      "conv2d_11 (Conv2D)           (None, 13, 13, 64)        36928     \n",
      "_________________________________________________________________\n",
      "max_pooling2d_5 (MaxPooling2 (None, 6, 6, 64)          0         \n",
      "_________________________________________________________________\n",
      "dropout_7 (Dropout)          (None, 6, 6, 64)          0         \n",
      "_________________________________________________________________\n",
      "flatten_2 (Flatten)          (None, 2304)              0         \n",
      "_________________________________________________________________\n",
      "dense_4 (Dense)              (None, 512)               1180160   \n",
      "_________________________________________________________________\n",
      "dropout_8 (Dropout)          (None, 512)               0         \n",
      "_________________________________________________________________\n",
      "dense_5 (Dense)              (None, 10)                5130      \n",
      "=================================================================\n",
      "Total params: 1,250,858\n",
      "Trainable params: 1,250,858\n",
      "Non-trainable params: 0\n",
      "_________________________________________________________________\n"
     ]
    }
   ],
   "source": [
    "# model = models.create_conv_net()\n",
    "model = models.create_keras_example_1()\n",
    "model.summary()\n",
    "\n",
    "model.compile(optimizer=tf.train.AdamOptimizer(),\n",
    "              loss='sparse_categorical_crossentropy',\n",
    "              metrics=['accuracy'])"
   ]
  },
  {
   "cell_type": "code",
   "execution_count": 22,
   "metadata": {},
   "outputs": [],
   "source": [
    "callbacks = [\n",
    "    tf.keras.callbacks.EarlyStopping(patience=6, monitor='val_loss', restore_best_weights=True),\n",
    "    tf.keras.callbacks.ModelCheckpoint(filepath='/home/guillaume/cpp_work_space/cs-exercises/statistics/tensorflow/checkpoints/cifar_10/', \n",
    "                                     monitor='val_loss', \n",
    "                                     save_weights_only=True),\n",
    "    tf.keras.callbacks.TensorBoard(log_dir='./logs/model2/')\n",
    "]\n",
    "\n"
   ]
  },
  {
   "cell_type": "code",
   "execution_count": 23,
   "metadata": {},
   "outputs": [
    {
     "name": "stderr",
     "output_type": "stream",
     "text": [
      "E0805 21:08:51.129033 140132133308224 checkpoint_management.py:348] Couldn't match files for checkpoint /home/guillaume/cpp_work_space/cs-exercises/statistics/tensorflow/checkpoints/cifar_10/.\n"
     ]
    },
    {
     "name": "stdout",
     "output_type": "stream",
     "text": [
      "Epoch 1/1000\n",
      "2000/2000 [==============================] - 33s 16ms/step - loss: 1.1148 - acc: 0.6021 - val_loss: 0.7597 - val_acc: 0.7344\n",
      "Epoch 2/1000\n",
      "2000/2000 [==============================] - 24s 12ms/step - loss: 0.6654 - acc: 0.7662 - val_loss: 0.6742 - val_acc: 0.7653\n",
      "Epoch 3/1000\n",
      "2000/2000 [==============================] - 23s 12ms/step - loss: 0.4964 - acc: 0.8225 - val_loss: 0.6489 - val_acc: 0.7841\n",
      "Epoch 4/1000\n",
      "2000/2000 [==============================] - 24s 12ms/step - loss: 0.3994 - acc: 0.8567 - val_loss: 0.6863 - val_acc: 0.7795\n",
      "Epoch 5/1000\n",
      "2000/2000 [==============================] - 24s 12ms/step - loss: 0.3359 - acc: 0.8797 - val_loss: 0.6881 - val_acc: 0.7885\n",
      "Epoch 6/1000\n",
      "2000/2000 [==============================] - 24s 12ms/step - loss: 0.2986 - acc: 0.8937 - val_loss: 0.6854 - val_acc: 0.7882\n",
      "Epoch 7/1000\n",
      "2000/2000 [==============================] - 24s 12ms/step - loss: 0.2739 - acc: 0.9033 - val_loss: 0.6799 - val_acc: 0.7992\n",
      "Epoch 8/1000\n",
      "2000/2000 [==============================] - 24s 12ms/step - loss: 0.2518 - acc: 0.9112 - val_loss: 0.7257 - val_acc: 0.7952\n",
      "Epoch 9/1000\n",
      "2000/2000 [==============================] - 26s 13ms/step - loss: 0.2368 - acc: 0.9166 - val_loss: 0.7308 - val_acc: 0.7955\n"
     ]
    }
   ],
   "source": [
    "history = model.fit(train_dataset, epochs=1000, steps_per_epoch=2000, validation_steps=1000, callbacks=callbacks,\n",
    "           validation_data=test_dataset)\n"
   ]
  },
  {
   "cell_type": "code",
   "execution_count": null,
   "metadata": {},
   "outputs": [],
   "source": [
    "history = model.fit_generator(image_data_generator.flow(train_data, train_label, batch_size=batch_size),\n",
    "                    epochs=1000, steps_per_epoch=2000, validation_data=(test_data, test_label), callbacks=callbacks)"
   ]
  },
  {
   "cell_type": "code",
   "execution_count": 18,
   "metadata": {},
   "outputs": [
    {
     "name": "stdout",
     "output_type": "stream",
     "text": [
      "10000/10000 [==============================] - 2s 189us/sample - loss: 0.7134 - acc: 0.7960\n",
      "loss: 0.7134353098392486 acc: 0.7960000038146973\n"
     ]
    }
   ],
   "source": [
    "model.metrics_names\n",
    "\n",
    "loss, acc = model.evaluate(test_images, test_labels)\n",
    "print('loss: {} acc: {}'.format(loss, acc))"
   ]
  }
 ],
 "metadata": {
  "kernelspec": {
   "display_name": "Python 3",
   "language": "python",
   "name": "python3"
  },
  "language_info": {
   "codemirror_mode": {
    "name": "ipython",
    "version": 3
   },
   "file_extension": ".py",
   "mimetype": "text/x-python",
   "name": "python",
   "nbconvert_exporter": "python",
   "pygments_lexer": "ipython3",
   "version": "3.6.8"
  }
 },
 "nbformat": 4,
 "nbformat_minor": 2
}
